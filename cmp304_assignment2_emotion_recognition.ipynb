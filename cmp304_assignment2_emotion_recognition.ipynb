{
  "cells": [
    {
      "cell_type": "markdown",
      "metadata": {
        "id": "view-in-github",
        "colab_type": "text"
      },
      "source": [
        "<a href=\"https://colab.research.google.com/github/CamThustain01/University-Work/blob/main/cmp304_assignment2_emotion_recognition.ipynb\" target=\"_parent\"><img src=\"https://colab.research.google.com/assets/colab-badge.svg\" alt=\"Open In Colab\"/></a>"
      ]
    },
    {
      "cell_type": "markdown",
      "source": [
        "#CMP304 Assignment 2 - Emotion Recognition"
      ],
      "metadata": {
        "id": "-bE_S4qKMaYl"
      }
    },
    {
      "cell_type": "markdown",
      "source": [
        "By Cameron Thustain 1900594\n",
        "\n",
        "\n"
      ],
      "metadata": {
        "id": "D2kut-vwMkeL"
      }
    },
    {
      "cell_type": "code",
      "execution_count": null,
      "metadata": {
        "id": "P694QS9ImhPt"
      },
      "outputs": [],
      "source": [
        "import dlib"
      ]
    },
    {
      "cell_type": "code",
      "execution_count": null,
      "metadata": {
        "colab": {
          "base_uri": "https://localhost:8080/"
        },
        "id": "vVv2ZYsqtyvj",
        "outputId": "55f8062c-8ecf-4787-f903-fcec7ee5ce26"
      },
      "outputs": [
        {
          "output_type": "stream",
          "name": "stdout",
          "text": [
            "--2022-05-12 12:15:18--  http://dlib.net/files/shape_predictor_68_face_landmarks.dat.bz2\n",
            "Resolving dlib.net (dlib.net)... 107.180.26.78\n",
            "Connecting to dlib.net (dlib.net)|107.180.26.78|:80... connected.\n",
            "HTTP request sent, awaiting response... 200 OK\n",
            "Length: 64040097 (61M)\n",
            "Saving to: ‘shape_predictor_68_face_landmarks.dat.bz2’\n",
            "\n",
            "shape_predictor_68_ 100%[===================>]  61.07M  42.1MB/s    in 1.4s    \n",
            "\n",
            "2022-05-12 12:15:20 (42.1 MB/s) - ‘shape_predictor_68_face_landmarks.dat.bz2’ saved [64040097/64040097]\n",
            "\n"
          ]
        }
      ],
      "source": [
        "# get the pre-trained face detection model (need to run only once)\n",
        "!wget http://dlib.net/files/shape_predictor_68_face_landmarks.dat.bz2 # DOWNLOAD LINK\n",
        "!bunzip2 /content/shape_predictor_68_face_landmarks.dat.bz2"
      ]
    },
    {
      "cell_type": "code",
      "execution_count": null,
      "metadata": {
        "id": "UPxWm0awt3wh"
      },
      "outputs": [],
      "source": [
        "# prep face detector objects\n",
        "datFile = \"/content/shape_predictor_68_face_landmarks.dat\"\n",
        "face_detector = dlib.get_frontal_face_detector() # locates faces\n",
        "lm_extractor = dlib.shape_predictor(datFile) # computes landmarks"
      ]
    },
    {
      "cell_type": "code",
      "execution_count": null,
      "metadata": {
        "colab": {
          "base_uri": "https://localhost:8080/",
          "height": 1000
        },
        "id": "TBMag3m-yjzp",
        "outputId": "1e3db12b-0e9b-4995-e85e-7f44c5abcd91"
      },
      "outputs": [
        {
          "output_type": "stream",
          "name": "stdout",
          "text": [
            "Drive already mounted at /content/drive; to attempt to forcibly remount, call drive.mount(\"/content/drive\", force_remount=True).\n",
            "SVC training acc 0.7666666666666667\n",
            "SVC testing acc 0.19907407407407407\n",
            "SVC Report               precision    recall  f1-score   support\n",
            "\n",
            "           0       0.00      0.00      0.00        33\n",
            "           1       0.26      0.31      0.29        29\n",
            "           2       0.19      0.92      0.31        36\n",
            "           3       0.00      0.00      0.00        27\n",
            "           4       0.00      0.00      0.00        29\n",
            "           5       0.00      0.00      0.00        30\n",
            "           6       1.00      0.03      0.06        32\n",
            "\n",
            "    accuracy                           0.20       216\n",
            "   macro avg       0.21      0.18      0.09       216\n",
            "weighted avg       0.21      0.20      0.10       216\n",
            "\n",
            "KNN training acc 0.625\n",
            "KNN test acc 0.25462962962962965\n",
            "KNN Report               precision    recall  f1-score   support\n",
            "\n",
            "           0       0.29      0.27      0.28        33\n",
            "           1       0.12      0.03      0.05        29\n",
            "           2       0.22      0.72      0.34        36\n",
            "           3       0.43      0.33      0.38        27\n",
            "           4       0.25      0.07      0.11        29\n",
            "           5       0.16      0.13      0.15        30\n",
            "           6       1.00      0.12      0.22        32\n",
            "\n",
            "    accuracy                           0.25       216\n",
            "   macro avg       0.35      0.24      0.22       216\n",
            "weighted avg       0.36      0.25      0.22       216\n",
            "\n"
          ]
        },
        {
          "output_type": "stream",
          "name": "stderr",
          "text": [
            "/usr/local/lib/python3.7/dist-packages/sklearn/metrics/_classification.py:1318: UndefinedMetricWarning: Precision and F-score are ill-defined and being set to 0.0 in labels with no predicted samples. Use `zero_division` parameter to control this behavior.\n",
            "  _warn_prf(average, modifier, msg_start, len(result))\n",
            "/usr/local/lib/python3.7/dist-packages/sklearn/metrics/_classification.py:1318: UndefinedMetricWarning: Precision and F-score are ill-defined and being set to 0.0 in labels with no predicted samples. Use `zero_division` parameter to control this behavior.\n",
            "  _warn_prf(average, modifier, msg_start, len(result))\n",
            "/usr/local/lib/python3.7/dist-packages/sklearn/metrics/_classification.py:1318: UndefinedMetricWarning: Precision and F-score are ill-defined and being set to 0.0 in labels with no predicted samples. Use `zero_division` parameter to control this behavior.\n",
            "  _warn_prf(average, modifier, msg_start, len(result))\n"
          ]
        },
        {
          "output_type": "display_data",
          "data": {
            "text/plain": [
              "<Figure size 432x288 with 1 Axes>"
            ],
            "image/png": "[encoded data removed]"
          },
          "metadata": {
            "needs_background": "light"
          }
        },
        {
          "output_type": "display_data",
          "data": {
            "text/plain": [
              "<Figure size 432x288 with 1 Axes>"
            ],
            "image/png": "[encoded data removed]"
          },
          "metadata": {
            "needs_background": "light"
          }
        }
      ],
      "source": [
        "#libraries and classes imported\n",
        "from operator import index\n",
        "import cv2\n",
        "import csv\n",
        "import os\n",
        "import math\n",
        "from google.colab.patches import cv2_imshow \n",
        "from sklearn.model_selection import train_test_split\n",
        "from sklearn import preprocessing\n",
        "from sklearn.svm import SVC\n",
        "from sklearn import metrics\n",
        "import pandas as pd\n",
        "from pandas import read_csv\n",
        "from PIL import Image\n",
        "from sklearn.metrics import classification_report\n",
        "from sklearn.model_selection import learning_curve\n",
        "from sklearn.neighbors import KNeighborsClassifier\n",
        "import matplotlib.pyplot as plt\n",
        "import numpy as np \n",
        "\n",
        "\n",
        "\n",
        "        \n",
        "def dist(p1, p2): # Euclidean distance function \n",
        "  x1 = p1.x\n",
        "  y1 = p1.y\n",
        "  x2 = p2.x\n",
        "  y2 = p2.y  \n",
        "  return math.sqrt((x2 - x1)**2 + (y2 - y1)**2)\n",
        "\n",
        "\n",
        "def get_features(landmarks, label):\n",
        "    f_vector = []\n",
        "    f_vector.append(label)\n",
        "\n",
        "    #leyebrow length\n",
        "    eb_x = landmarks.part(17).x\n",
        "    eb_x1 = landmarks.part(26).x\n",
        "\n",
        "    #length of eyebrow\n",
        "    eb_widthDiff = eb_x1 - eb_x\n",
        "\n",
        "    #lip length\n",
        "    lip_x = landmarks.part(48).x\n",
        "    lip_x1 = landmarks.part(54).x\n",
        "\n",
        "    #length of lip\n",
        "    liplwidthDiff = lip_x1 - lip_x\n",
        "\n",
        "    #lip height landmark\n",
        "    lip_y = landmarks.part(51).y\n",
        "    l_y = landmarks.part(57).y\n",
        "\n",
        "    #lip height\n",
        "    liph_heightDiff = l_y - lip_y\n",
        "\n",
        "      #append vector             #rows in csv\n",
        "    f_vector.append(dist(landmarks.part(37), landmarks.part(41)))#A #left eye distance                   #1\n",
        "    f_vector.append(dist(landmarks.part(44),landmarks.part(46)))#B #right eye distance                   #2\n",
        "    f_vector.append(dist(landmarks.part(57),landmarks.part(66)))#C #middle of lip distance               #3\n",
        "    f_vector.append(eb_widthDiff)#D #eyebrow length                                                      #4\n",
        "    f_vector.append(liplwidthDiff)#E #lip length                                                         #5\n",
        "    f_vector.append(liph_heightDiff)#F #lip height                                                       #6\n",
        "   #f_vector.append(dist(landmarks.part(37),landmarks.part(19)))#G # left eye to left eyebrow dist       #7\n",
        "   #f_vector.append(dist(landmarks.part(44),landmarks.part(24)))#H # right eye to right eyebrow dist     #8\n",
        "\n",
        "     \n",
        "\n",
        "    return f_vector\n",
        "      \n",
        "\n",
        "def extract(file_path, label): #landmark extraction\n",
        "    datFile = \"/content/shape_predictor_68_face_landmarks.dat\"\n",
        "\n",
        "#setup face detector and landmark extractor\n",
        "    face_detector = dlib.get_frontal_face_detector()\n",
        "    lm_extractor = dlib.shape_predictor(datFile)\n",
        "\n",
        "    csv_path = '/content/drive/MyDrive/cmp304_lab10/features.csv' #training\n",
        "    csv_path2 = '/content/drive/MyDrive/cmp304_lab10/testfeatures.csv' #testing csv wont write\n",
        "   \n",
        "   #pre processing\n",
        "    csv_path2 = cv2.resize(file_path, (640, 480)) #for resizing the test dataset as images are very small \n",
        "    #loop over the faces within the file \n",
        "    faces = face_detector(file_path)\n",
        "    for face in faces:\n",
        "        f_vector = []\n",
        "        landmarks = lm_extractor(file_path, face)\n",
        "        f_vector = get_features(landmarks, label)\n",
        "\n",
        "#write the csv \n",
        "        if not os.path.exists(csv_path):\n",
        "            with open(csv_path, 'w', newline='') as csvfile:\n",
        "              #write rows with feature labels at data\n",
        "              writer = csv.writer(csvfile)\n",
        "              writer.writerow(['label','leye dist','reye dist','mlip dist','eyebrow len','lip length','lip height'])#,'leye_to_leb','reye_to_reb'])\n",
        "              writer.writerow(f_vector)\n",
        "        else:\n",
        "            with open(csv_path, 'a', newline='') as csvfile:\n",
        "              writer = csv.writer(csvfile)\n",
        "              writer.writerow(f_vector)\n",
        "\n",
        "\n",
        "def train():  \n",
        "  df = read_csv('/content/drive/MyDrive/cmp304_lab10/features.csv') #training \n",
        "  td = read_csv('/content/drive/MyDrive/cmp304_lab10/testfeatures.csv') #testing csv that wont write\n",
        "\n",
        "##pre processing for model\n",
        "  y = df['label'] \n",
        "  x = df.drop('label', axis=1) \n",
        "  y = preprocessing.LabelEncoder().fit_transform(y)\n",
        "\n",
        "##training mdodel with cohn kanade\n",
        "  x_train, x_test, y_train, y_test = train_test_split(x, y, test_size=0.9, random_state=42)\n",
        "  clf = SVC(kernel='linear', C=1.0) # c is regularization \n",
        "  clf.fit(x_train, y_train)\n",
        "  print('SVC training acc', clf.score(x_train, y_train)) ##prints training accuracy of svm\n",
        "\n",
        "\n",
        "##testing model with test dataset\n",
        "  y = td['label']\n",
        "  x = td.drop('label', axis=1)\n",
        "  y = preprocessing.LabelEncoder().fit_transform(y)\n",
        "  x_train, x_test, y_train, y_test = train_test_split(x, y, test_size=0.9, random_state=42)\n",
        "\n",
        "  y_pred = clf.predict(x_test)\n",
        "  print('SVC testing acc', metrics.accuracy_score(y_test, y_pred))\n",
        "\n",
        " #SVC Classification Report\n",
        "  print('SVC Report',classification_report(y_test, y_pred))\n",
        "\n",
        "  ##K NEAREST NEIGHBOUR CODE\n",
        "  #testing and train the knn model\n",
        "  nearest_neighbour_model = KNeighborsClassifier(n_neighbors=3)\n",
        "  nearest_neighbour_model.fit(x_train,y_train)\n",
        "  ##print accuracys \n",
        "  print('KNN training acc', nearest_neighbour_model.score(x_train,y_train))\n",
        "  print('KNN test acc', nearest_neighbour_model.score(x_test,y_test))\n",
        "\n",
        "  #KNN Classification Report\n",
        "  print('KNN Report',classification_report(y_test, nearest_neighbour_model.predict(x_test)))\n",
        "\n",
        "  ##arrays for accuracies from test size 0.1 to 0.9\n",
        "  svc_test_precision = np.array([0.29, 0.27, 0.24, 0.25, 0.23, 0.22, 0.26, 0.24, 0.25])\n",
        "  knn_test_precision = np.array([0.25, 0.40, 0.38, 0.38, 0.36, 0.31, 0.31, 0.29, 0.22])\n",
        "\n",
        "#plots graphs \n",
        "  plt.plot(svc_test_precision)\n",
        "  plt.xlabel('test size')\n",
        "  plt.ylabel('accuracy')\n",
        "  plt.title('SVC Accuracy (Test Dataset)')\n",
        "  plt.show()\n",
        " \n",
        "  plt.plot(knn_test_precision)\n",
        "  plt.xlabel('test size')\n",
        "  plt.ylabel('accuracy')\n",
        "  plt.title('KNN Accuracy (Test Dataset)')\n",
        "  plt.show()\n",
        "\n",
        "\n",
        "\n",
        "def main():\n",
        "  from google.colab import drive\n",
        "  drive.mount('/content/drive') #mounts to google drive \n",
        "  dataset = '/content/drive/MyDrive/cmp304_lab10/Cohn-Kanade-Images/' #training \n",
        "  testdataset = '/content/drive/MyDrive/cmp304_lab10/Test-Dataset/' #testing dataset that csv wont write\n",
        "\n",
        "\n",
        "  \n",
        "\n",
        "  #For Extracting CSV (training & testing dataset) COMMENTED OUT IF CSV HAS ALREADY BEEN CREATED\n",
        "  ######################################################\n",
        "  #for folder in os.listdir(testdataset):\n",
        "   #for image in os.listdir(testdataset + '/' + folder):\n",
        "    #image = cv2.imread(testdataset + '/' + folder + '/' + image)\n",
        "    #extract(image, folder)\n",
        "  ########################################################\n",
        "\n",
        "\n",
        "\n",
        "  train()#calls train method\n",
        "\n",
        "  \n",
        "\n",
        "main()#calls main method\n",
        "\n",
        "\n"
      ]
    }
  ],
  "metadata": {
    "colab": {
      "collapsed_sections": [],
      "provenance": [],
      "include_colab_link": true
    },
    "kernelspec": {
      "display_name": "Python 3",
      "name": "python3"
    },
    "language_info": {
      "name": "python"
    }
  },
  "nbformat": 4,
  "nbformat_minor": 0
}